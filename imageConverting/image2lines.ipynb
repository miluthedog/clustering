{
 "cells": [
  {
   "cell_type": "code",
   "execution_count": null,
   "id": "127edd7f-cf32-4c96-bb4c-b8e570fbc864",
   "metadata": {},
   "outputs": [],
   "source": [
    "'''\n",
    "input: .png image w/ pattern\n",
    "\n",
    "output: .png equally spacing lines covered pattern area\n",
    "'''"
   ]
  },
  {
   "cell_type": "code",
   "execution_count": null,
   "id": "0d2d20e0-1f7b-42fb-a1f5-da8e2cb9b161",
   "metadata": {},
   "outputs": [],
   "source": [
    "import cv2 as cv\n",
    "import matplotlib.pyplot as plt\n",
    "import numpy as np"
   ]
  },
  {
   "cell_type": "code",
   "execution_count": null,
   "id": "c83bc3f7-6096-40aa-ad5a-9fbe62174159",
   "metadata": {},
   "outputs": [],
   "source": [
    "image = cv.imread(\"images/test1.png\", cv.IMREAD_GRAYSCALE)\n",
    "h, w = image.shape\n",
    "\n",
    "plt.imshow(image, cmap='gray')"
   ]
  },
  {
   "cell_type": "code",
   "execution_count": null,
   "id": "5bb81ca7-d18d-405a-bb7c-74123664351a",
   "metadata": {},
   "outputs": [],
   "source": [
    "output = np.ones((h, w), dtype=np.uint8) * 255  \n",
    "\n",
    "# Generate horizontal engraving lines\n",
    "for y in range(0, h, 5):\n",
    "    for x in range(w - 1):\n",
    "        output[y, x] = image[y, x]\n",
    "\n",
    "plt.imshow(output, cmap='gray')"
   ]
  },
  {
   "cell_type": "code",
   "execution_count": null,
   "id": "ee8495f9-9edc-4ced-87ee-6ce3d6f13c79",
   "metadata": {},
   "outputs": [],
   "source": [
    "cv.imwrite('test1line.png', output)"
   ]
  }
 ],
 "metadata": {
  "kernelspec": {
   "display_name": "Python 3 (ipykernel)",
   "language": "python",
   "name": "python3"
  },
  "language_info": {
   "codemirror_mode": {
    "name": "ipython",
    "version": 3
   },
   "file_extension": ".py",
   "mimetype": "text/x-python",
   "name": "python",
   "nbconvert_exporter": "python",
   "pygments_lexer": "ipython3",
   "version": "3.12.4"
  }
 },
 "nbformat": 4,
 "nbformat_minor": 5
}
