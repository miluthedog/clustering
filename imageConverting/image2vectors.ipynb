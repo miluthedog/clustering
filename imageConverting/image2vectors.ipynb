{
 "cells": [
  {
   "cell_type": "code",
   "execution_count": null,
   "id": "e443b715-a38b-4186-9806-be4ec93bdbdc",
   "metadata": {},
   "outputs": [],
   "source": [
    "'''\n",
    "input: .png image of equally spacing lines\n",
    "\n",
    "output: .svg vectors\n",
    "'''"
   ]
  },
  {
   "cell_type": "code",
   "execution_count": null,
   "id": "46609921-a2f5-4262-aab3-33afa75dc29a",
   "metadata": {},
   "outputs": [],
   "source": [
    "import cv2 as cv\n",
    "import matplotlib.pyplot as plt\n",
    "import svgwrite\n",
    "\n",
    "image = cv.imread(\"images/test1.png\", cv.IMREAD_GRAYSCALE)\n",
    "image = cv.imread(\"images/test1.png\", cv.IMREAD_GRAYSCALE)\n",
    "h, w = image.shape\n",
    "\n",
    "plt.imshow(image, cmap='gray')"
   ]
  },
  {
   "cell_type": "code",
   "execution_count": null,
   "id": "217cf74c-c879-4adb-8111-b97c4e09031d",
   "metadata": {},
   "outputs": [],
   "source": [
    "dwg = svgwrite.Drawing(\"test1svg.svg\", size=(w, h))\n",
    "\n",
    "for y in range(0, h, 5):\n",
    "    for x in range(w - 1):\n",
    "        brightness = image[y, x] / 255.0\n",
    "        stroke_opacity = 1 - brightness\n",
    "        \n",
    "        if stroke_opacity > 0:\n",
    "            dwg.add(dwg.line((x, y), (x + 1, y), stroke=\"black\", stroke_width=1, stroke_opacity=stroke_opacity))"
   ]
  },
  {
   "cell_type": "code",
   "execution_count": null,
   "id": "e3dfa495",
   "metadata": {},
   "outputs": [],
   "source": [
    "dwg.save()"
   ]
  }
 ],
 "metadata": {
  "kernelspec": {
   "display_name": "Python 3 (ipykernel)",
   "language": "python",
   "name": "python3"
  },
  "language_info": {
   "codemirror_mode": {
    "name": "ipython",
    "version": 3
   },
   "file_extension": ".py",
   "mimetype": "text/x-python",
   "name": "python",
   "nbconvert_exporter": "python",
   "pygments_lexer": "ipython3",
   "version": "3.12.4"
  }
 },
 "nbformat": 4,
 "nbformat_minor": 5
}
