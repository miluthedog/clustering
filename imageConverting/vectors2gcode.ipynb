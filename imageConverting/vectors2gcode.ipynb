{
 "cells": [
  {
   "cell_type": "code",
   "execution_count": null,
   "metadata": {},
   "outputs": [],
   "source": [
    "'''\n",
    "input: .svg vectors\n",
    "\n",
    "output: gcodes - relative\n",
    "    cur y = y1: \n",
    "        cur x = x1 => go to x2 with power\n",
    "        cur x != x1 => go to x1, go to x2 with power\n",
    "    next y:\n",
    "        go to x1 y1, do (cur y = y1)\n",
    "'''\n",
    "\n",
    "'''\n",
    "Params: size_scale, power_scale, offset (dx, dy)\n",
    "\n",
    "Gcode config:\n",
    "    G0 X0 Y0: move fast to 0, 0 \n",
    "    G1 X0 Y0 F1000: move to 0, 0 with feed_rate 1000 mm/min\n",
    "    M3 S255: turn laser on at max power\n",
    "    M5: turn laser off\n",
    "\n",
    "    G21: metric (mm unit)\n",
    "    G90: absolute position mode\n",
    "'''"
   ]
  },
  {
   "cell_type": "code",
   "execution_count": null,
   "metadata": {},
   "outputs": [],
   "source": [
    "import xml.etree.ElementTree as ET"
   ]
  },
  {
   "cell_type": "code",
   "execution_count": null,
   "metadata": {},
   "outputs": [],
   "source": [
    "def svg2gcode(size_scale=1.0, power_scale=1.0, dx=0, dy=0):\n",
    "    svg_file = \"images/test2.svg\"\n",
    "    tree = ET.parse(svg_file)\n",
    "    root = tree.getroot()\n",
    "\n",
    "    max_laser_power = 255\n",
    "    feed_rate = 500\n",
    "\n",
    "    gcode = [\"G21\", \"G90\", f\"F{feed_rate}\"]\n",
    "    cur_x, cur_y, cur_laser = dx, dy, 0\n",
    "\n",
    "    for line in root.findall(\".//{http://www.w3.org/2000/svg}line\"):\n",
    "        x1 = float(line.attrib['x1']) * size_scale + dx\n",
    "        y1 = float(line.attrib['y1']) * size_scale + dy\n",
    "        x2 = float(line.attrib['x2']) * size_scale + dx\n",
    "        opacity = float(line.attrib.get('stroke-opacity', \"1.0\"))\n",
    "        laser_power = int(opacity * max_laser_power * power_scale)\n",
    "\n",
    "        if (cur_x, cur_y) != (x1, y1):\n",
    "            if cur_x != x1:\n",
    "                gcode.append(f\"G0 X{x1} Y{y1}\")\n",
    "            cur_x, cur_y = x1, y1\n",
    "\n",
    "        if cur_laser != laser_power:\n",
    "            gcode.append(f\"M3 S{laser_power}\")\n",
    "            cur_laser = laser_power\n",
    "\n",
    "        gcode.append(f\"G1 X{x2}\")\n",
    "        cur_x = x2\n",
    "\n",
    "    gcode.append(\"M5\")\n",
    "    gcode.append(f\"G0 X{dx} Y{dy}\")\n",
    "\n",
    "    return \"\\n\".join(gcode)\n"
   ]
  },
  {
   "cell_type": "code",
   "execution_count": null,
   "metadata": {},
   "outputs": [],
   "source": [
    "gcode_output = svg2gcode()\n",
    "with open(\"test2.gcode\", \"w\") as file:\n",
    "    file.write(gcode_output)"
   ]
  }
 ],
 "metadata": {
  "kernelspec": {
   "display_name": "Python 3 (ipykernel)",
   "language": "python",
   "name": "python3"
  },
  "language_info": {
   "codemirror_mode": {
    "name": "ipython",
    "version": 3
   },
   "file_extension": ".py",
   "mimetype": "text/x-python",
   "name": "python",
   "nbconvert_exporter": "python",
   "pygments_lexer": "ipython3",
   "version": "3.12.4"
  }
 },
 "nbformat": 4,
 "nbformat_minor": 4
}
