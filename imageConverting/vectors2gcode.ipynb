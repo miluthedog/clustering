{
 "cells": [
  {
   "cell_type": "code",
   "execution_count": null,
   "metadata": {},
   "outputs": [],
   "source": [
    "'''\n",
    "input: .svg vectors\n",
    "\n",
    "output: gcodes - relative\n",
    "    cur y = y1: \n",
    "        cur x = x1 => go to x2 with power\n",
    "        cur x != x1 => go to x1, go to x2 with power\n",
    "    next y:\n",
    "        go to x1 y1, do (cur y = y1)\n",
    "'''\n",
    "\n",
    "'''\n",
    "Hyperparams: size_scale, power_scale\n",
    "\n",
    "Gcode config:\n",
    "    G0 \n",
    "    G\n",
    "    G\n",
    "    M\n",
    "    M\n",
    "'''"
   ]
  },
  {
   "cell_type": "code",
   "execution_count": null,
   "metadata": {},
   "outputs": [],
   "source": [
    "import xml.etree.ElementTree as ET"
   ]
  },
  {
   "cell_type": "code",
   "execution_count": null,
   "metadata": {},
   "outputs": [],
   "source": [
    "\n",
    "\n",
    "def svg2gcode(size_scale = 1.0, power_scale = 1.0):\n",
    "    svg_file = \"images/test1svg\"\n",
    "    tree = ET.parse(svg_file)\n",
    "    root = tree.getroot()\n",
    "\n",
    "    max_laser_power = 255\n",
    "    feed_rate = 500 #?\n",
    "\n",
    "    gcode = [\"G21\",\"G90\", f\"F{feed_rate}\"] # unit: mm, position: absolute, feedrate?\n",
    "    cur_x = 0\n",
    "    cur_y = 0\n",
    "    cur_laser = 0\n",
    "\n",
    "    for line in root.findall(\".//{http://www.w3.org/2000/svg}line\"):\n",
    "        x1 = float(line.attrib['x1']) * size_scale\n",
    "        y1 = float(line.attrib['y1']) * size_scale\n",
    "        x2 = float(line.attrib['x2']) * size_scale\n",
    "        y2 = float(line.attrib['y2']) * size_scale\n",
    "        opacity = float(line.attrib.get('opacity', 0.0))\n",
    "        laser_power = int(opacity * max_laser_power * power_scale)\n",
    "\n",
    "        if (cur_y != y1):\n",
    "            1# move to y0\n",
    "        if (cur_x != x1):\n",
    "            1#move to x0\n",
    "        else:\n",
    "            if (laser_power != cur_laser):\n",
    "                gcode.append(f\"M3 S{laser_power}\")\n",
    "                gcode.append(f\"G1 X{x2} Y{y2}\")\n",
    "            else:\n",
    "                gcode.append(f\"G1 X{x2} Y{y2}\")\n",
    "    gcode.append()# turnoff\n",
    "    gcode.append(\"G0 X0 Y0\")\n",
    "\n",
    "    return \"\\n\".join(gcode)"
   ]
  },
  {
   "cell_type": "code",
   "execution_count": null,
   "metadata": {},
   "outputs": [],
   "source": [
    "gcode_output = svg2gcode()\n",
    "with open(\"output.gcode\", \"w\") as file:\n",
    "    file.write(gcode_output)"
   ]
  }
 ],
 "metadata": {
  "kernelspec": {
   "display_name": "Python 3 (ipykernel)",
   "language": "python",
   "name": "python3"
  },
  "language_info": {
   "codemirror_mode": {
    "name": "ipython",
    "version": 3
   },
   "file_extension": ".py",
   "mimetype": "text/x-python",
   "name": "python",
   "nbconvert_exporter": "python",
   "pygments_lexer": "ipython3",
   "version": "3.12.4"
  }
 },
 "nbformat": 4,
 "nbformat_minor": 4
}
