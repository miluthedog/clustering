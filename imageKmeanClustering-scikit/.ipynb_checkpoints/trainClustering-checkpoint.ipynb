{
 "cells": [
  {
   "cell_type": "code",
   "execution_count": 1,
   "id": "1a8feeb1-b795-4695-998c-a7b0431e60a3",
   "metadata": {},
   "outputs": [],
   "source": [
    "# actually this is developing visualization, run .py for model\n",
    "\n",
    "# data: any real-time workspace images from camera. Contain 3 main sections: outter workspace, light workpiece and dark pattern\n",
    "\n",
    "# model: using sklearn.cluster (kmean)\n",
    "    # objective: extract only \"pattern\" to .png no background\n",
    "    # define: Pattern = smallest area, inside workpiece (remove noise smaller than a threshold)"
   ]
  },
  {
   "cell_type": "code",
   "execution_count": 2,
   "id": "8071ea9e-ff5b-4886-9144-3d29bca9b3aa",
   "metadata": {},
   "outputs": [],
   "source": [
    "from sklearn.cluster import KMeans\n",
    "import cv2 as cv\n",
    "import numpy as np\n",
    "import matplotlib.pyplot as plt"
   ]
  },
  {
   "cell_type": "code",
   "execution_count": null,
   "id": "1392ebad-a22e-4405-882f-3a37b023a192",
   "metadata": {},
   "outputs": [],
   "source": [
    "image = cv.imread(\"image1.png\")\n",
    "plt.imshow(image)"
   ]
  },
  {
   "cell_type": "code",
   "execution_count": 4,
   "id": "200de55d-8799-4773-834f-5142bb444a09",
   "metadata": {},
   "outputs": [],
   "source": [
    "data = image.reshape(-1, 3)\n",
    "kmeans = KMeans(n_clusters=3, random_state=0).fit(data)\n",
    "clustered_image = kmeans.labels_.reshape(image.shape[:2])"
   ]
  },
  {
   "cell_type": "code",
   "execution_count": null,
   "id": "499c42af-6a29-4e29-8d2a-0b4b68786911",
   "metadata": {},
   "outputs": [],
   "source": [
    "plt.imshow(clustered_image)\n",
    "plt.show()"
   ]
  },
  {
   "cell_type": "code",
   "execution_count": 6,
   "id": "5fe1f45c-fd2d-43de-a080-698f34e9d872",
   "metadata": {},
   "outputs": [],
   "source": [
    "clustered_data = np.bincount(clustered_image.flatten())\n",
    "pattern_index = np.argmin(clustered_data)\n",
    "pattern = (clustered_image == pattern_index).astype(np.uint8)"
   ]
  },
  {
   "cell_type": "code",
   "execution_count": null,
   "id": "e2443cc4-8b7e-4d8c-8115-2be18c9d7c31",
   "metadata": {},
   "outputs": [],
   "source": [
    "plt.imshow(pattern)\n",
    "plt.show()"
   ]
  },
  {
   "cell_type": "code",
   "execution_count": 8,
   "id": "aa1df886-6182-450c-bf02-dec40b033b6c",
   "metadata": {},
   "outputs": [],
   "source": [
    "nums, connected_patterns, stats, centroids = cv.connectedComponentsWithStats(pattern, connectivity=8)"
   ]
  },
  {
   "cell_type": "code",
   "execution_count": null,
   "id": "078831c1-07d2-4792-852e-e7383d83761c",
   "metadata": {},
   "outputs": [],
   "source": [
    "plt.imshow(connected_patterns)\n",
    "plt.show()"
   ]
  },
  {
   "cell_type": "code",
   "execution_count": 11,
   "id": "65634ab5-5c79-4608-bfed-a7b42706ee0e",
   "metadata": {},
   "outputs": [],
   "source": [
    "pattern_area = clustered_data[pattern_index]\n",
    "threshold_value = 0.01\n",
    "threshold = int(threshold_value * pattern_area)\n",
    "\n",
    "clean_pattern = np.zeros_like(pattern)\n",
    "for i in range(1, nums):\n",
    "    if stats[i, cv.CC_STAT_AREA] > threshold:\n",
    "        clean_pattern[connected_patterns == i] = 255"
   ]
  },
  {
   "cell_type": "code",
   "execution_count": null,
   "id": "8805f1b1-456d-46f5-b698-5d25d9ba1d36",
   "metadata": {},
   "outputs": [],
   "source": [
    "plt.imshow(clean_pattern)\n",
    "plt.show()"
   ]
  },
  {
   "cell_type": "code",
   "execution_count": 16,
   "id": "318f4a65-9efd-428e-8241-03bd8357be61",
   "metadata": {},
   "outputs": [],
   "source": [
    "clean_pattern_height, clean_pattern_width = clean_pattern.shape\n",
    "trans_pattern = np.zeros((clean_pattern_height, clean_pattern_width, 4), dtype=np.uint8)\n",
    "trans_pattern[clean_pattern != 0] = [0, 0, 0, 255]\n",
    "trans_pattern[clean_pattern == 0] = [0, 0, 0, 0]"
   ]
  },
  {
   "cell_type": "code",
   "execution_count": null,
   "id": "a7c8c1c2-6b72-4ffd-978e-d991b44eb0ca",
   "metadata": {},
   "outputs": [],
   "source": [
    "plt.imshow(trans_pattern)\n",
    "plt.show()"
   ]
  },
  {
   "cell_type": "code",
   "execution_count": 18,
   "id": "bd1c8208-e72a-4e12-a1d1-877add72fce5",
   "metadata": {},
   "outputs": [
    {
     "data": {
      "text/plain": [
       "True"
      ]
     },
     "execution_count": 18,
     "metadata": {},
     "output_type": "execute_result"
    }
   ],
   "source": [
    "cv.imwrite('trans_pattern.png', trans_pattern)"
   ]
  }
 ],
 "metadata": {
  "kernelspec": {
   "display_name": "Python 3 (ipykernel)",
   "language": "python",
   "name": "python3"
  },
  "language_info": {
   "codemirror_mode": {
    "name": "ipython",
    "version": 3
   },
   "file_extension": ".py",
   "mimetype": "text/x-python",
   "name": "python",
   "nbconvert_exporter": "python",
   "pygments_lexer": "ipython3",
   "version": "3.12.4"
  }
 },
 "nbformat": 4,
 "nbformat_minor": 5
}
